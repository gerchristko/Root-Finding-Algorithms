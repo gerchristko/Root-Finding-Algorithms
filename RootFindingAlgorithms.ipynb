{
 "cells": [
  {
   "cell_type": "code",
   "execution_count": null,
   "id": "3855cff0",
   "metadata": {},
   "outputs": [],
   "source": [
    "import numpy as np"
   ]
  },
  {
   "cell_type": "markdown",
   "id": "bbf2bad4",
   "metadata": {},
   "source": [
    "## <font color = \"brown\"> Fixed Point Iteration </font>"
   ]
  },
  {
   "cell_type": "markdown",
   "id": "c1ab44d8",
   "metadata": {},
   "source": [
    "$$\n",
    "\\begin{aligned}\n",
    "f(x) &= \\frac{1}{10}e^x - \\log(x + 4) \\\\\n",
    "\\\\\n",
    "0 &= \\frac{1}{10}x - \\log(x + 4) \\\\\n",
    "\\frac{1}{10}e^x &= \\log(x + 4) \\\\\n",
    "e^x &= 10\\log(x + 4) \\\\\n",
    "x &= \\log(10\\log(x + 4)) \\\\\n",
    "\\end{aligned}\n",
    "$$"
   ]
  },
  {
   "cell_type": "markdown",
   "id": "586652a0",
   "metadata": {},
   "source": [
    "$$\n",
    "x^{i+1} = \\log(10\\log(x^i + 4)) \\\\\n",
    "$$"
   ]
  },
  {
   "cell_type": "code",
   "execution_count": null,
   "id": "0d9e84d8",
   "metadata": {},
   "outputs": [],
   "source": [
    "def g(x):\n",
    "    y = np.log(10 * np.log(x + 4))\n",
    "    return y"
   ]
  },
  {
   "cell_type": "code",
   "execution_count": null,
   "id": "7f58804b",
   "metadata": {},
   "outputs": [],
   "source": [
    "def FixedPoint(g, xi):\n",
    "    x = xi\n",
    "    while abs(x - g(x)) > 1e-6:\n",
    "        x = g(x)\n",
    "    return x"
   ]
  },
  {
   "cell_type": "code",
   "execution_count": null,
   "id": "ad122094",
   "metadata": {},
   "outputs": [],
   "source": [
    "FixedPoint(g, 4)"
   ]
  },
  {
   "cell_type": "markdown",
   "id": "0556e463",
   "metadata": {},
   "source": [
    "## <font color = \"brown\"> Newton-Raphson Method </font>"
   ]
  },
  {
   "cell_type": "markdown",
   "id": "5b8db6a0",
   "metadata": {},
   "source": [
    "$$\n",
    "\\begin{aligned}\n",
    "&\\text{Coordinate 1: }\\space\\space\\space [x^i\\space\\space\\space\\space,  f(x^i)] \\\\\n",
    "&\\text{Coordinate 2: } \\space\\space\\space[x^{i+1}\\space,\\space\\space 0 \\space\\space\\space\\space]\n",
    "\\space\\\\\n",
    "\\space\\\\\n",
    "\\end{aligned}\n",
    "$$"
   ]
  },
  {
   "cell_type": "markdown",
   "id": "1dfdc956",
   "metadata": {},
   "source": [
    "$$\n",
    "\\begin{aligned}\n",
    "m &= \\frac{y_2-y_1}{x_2-x_1} \\\\\n",
    "\\space\\\\\n",
    "f'(x^i) &= \\frac{f(x^i) - 0}{x^i - x^{i+1}} \\\\\n",
    "\\space\\\\\n",
    "x^i - x^{i+1} &= \\frac{f(x^i)}{f'(x^i)} \\\\\n",
    "\\space\\\\\n",
    "x^{i+1} &= x^i - \\frac{f(x^i)}{f'(x^i)} \\\\\n",
    "\\space\\\\\n",
    "\\end{aligned}\n",
    "$$"
   ]
  },
  {
   "cell_type": "code",
   "execution_count": null,
   "id": "982717ee",
   "metadata": {},
   "outputs": [],
   "source": [
    "from scipy.misc import derivative"
   ]
  },
  {
   "cell_type": "code",
   "execution_count": null,
   "id": "294fcedf",
   "metadata": {},
   "outputs": [],
   "source": [
    "def f(x):\n",
    "    y = 0.1 * np.exp(x) - np.log(x + 4)\n",
    "    return y"
   ]
  },
  {
   "cell_type": "code",
   "execution_count": null,
   "id": "970d8009",
   "metadata": {},
   "outputs": [],
   "source": [
    "def NewtonRaphson(f, xi):\n",
    "    x = xi\n",
    "    \n",
    "    while abs(f(x)) > 1e-6:\n",
    "        fx = f(x)\n",
    "        dfx = derivative(f, x, dx = 1e-6)\n",
    "        x = x - (fx/dfx)\n",
    "        \n",
    "    return x"
   ]
  },
  {
   "cell_type": "code",
   "execution_count": null,
   "id": "212c9c39",
   "metadata": {},
   "outputs": [],
   "source": [
    "NewtonRaphson(f, 4)"
   ]
  },
  {
   "cell_type": "markdown",
   "id": "a610a871",
   "metadata": {},
   "source": [
    "## <font color = \"brown\"> Secant Method </font>"
   ]
  },
  {
   "cell_type": "markdown",
   "id": "9158428b",
   "metadata": {},
   "source": [
    "$$\n",
    "\\begin{aligned}\n",
    "\\space\\\\\n",
    "f'(x^i) &\\approx \\frac{f(x^i) - f(x^{i-1})}{x^i - x^{i-1}} \\\\\n",
    "\\space\\\\\n",
    "\\space\\\\\n",
    "\\space\\\\\n",
    "x^{i+1} &= x^i - \\frac{f(x^i)}{f'(x^i)} \\\\\n",
    "\\space\\\\\n",
    "x^{i+1} &\\approx x^i - \\frac{f(x^i)}{\\frac{f(x^i) - f(x^{i-1})}{x^i - x^{i-1}}} \\\\\n",
    "\\space\\\\\n",
    "x^{i+1} &\\approx x^i - \\frac{(x^i - x^{i-1})f(x^i)}{f(x^i) - f(x^{i-1})} \\\\\n",
    "\\space\\\\\n",
    "\\end{aligned}\n",
    "$$"
   ]
  },
  {
   "cell_type": "code",
   "execution_count": 34,
   "id": "3fdc2e97",
   "metadata": {},
   "outputs": [],
   "source": [
    "def f(x):\n",
    "    y = 0.1 * np.exp(x) - np.log(x + 4)\n",
    "    return y"
   ]
  },
  {
   "cell_type": "code",
   "execution_count": 35,
   "id": "2e593410",
   "metadata": {},
   "outputs": [],
   "source": [
    "def SecantMethod(f, x1, x2):\n",
    "\n",
    "    while abs(f(x1)) > 1e-6:\n",
    "        fx1 = f(x1)\n",
    "        fx2 = f(x2)\n",
    "        xtemp = x1\n",
    "        x1 = x1 - (x1 - x2) * fx1/ (fx1 - fx2)\n",
    "        x2 = xtemp\n",
    "        \n",
    "    return x1"
   ]
  },
  {
   "cell_type": "code",
   "execution_count": 36,
   "id": "fed6c6d4",
   "metadata": {},
   "outputs": [
    {
     "data": {
      "text/plain": [
       "2.9657943958960433"
      ]
     },
     "execution_count": 36,
     "metadata": {},
     "output_type": "execute_result"
    }
   ],
   "source": [
    "SecantMethod(f, 2, 4)"
   ]
  },
  {
   "cell_type": "markdown",
   "id": "1b02b0d6",
   "metadata": {},
   "source": [
    "## <font color = \"brown\"> Bisection Method </font>"
   ]
  },
  {
   "cell_type": "markdown",
   "id": "a7983116",
   "metadata": {},
   "source": [
    "$$\n",
    "\\begin{aligned}\n",
    "\\space\\\\\n",
    "R = \\frac{L + U}{2} \\\\\n",
    "\\space\\\\\n",
    "\\end{aligned}\n",
    "$$"
   ]
  },
  {
   "cell_type": "code",
   "execution_count": 70,
   "id": "39eba1ee",
   "metadata": {},
   "outputs": [],
   "source": [
    "def f(x):\n",
    "    y = 0.1 * np.exp(x) - np.log(x + 4)\n",
    "    return y"
   ]
  },
  {
   "cell_type": "code",
   "execution_count": 113,
   "id": "293e8922",
   "metadata": {},
   "outputs": [],
   "source": [
    "def UpdateBisec(L, U):\n",
    "    R = (L + U)/2\n",
    "    return R"
   ]
  },
  {
   "cell_type": "code",
   "execution_count": 114,
   "id": "ddb02a34",
   "metadata": {},
   "outputs": [],
   "source": [
    "def BisectionMethod(f, L, U):\n",
    "    \n",
    "    R = UpdateBisec(L, U)\n",
    "    while abs(f(R)) > 1e-16:\n",
    "        \n",
    "        if f(L) * f(R) < 0:\n",
    "            U = R\n",
    "        elif f(U) * f(R) < 0:\n",
    "            L = R\n",
    "        elif f(R) == 0:\n",
    "            return R\n",
    "        R = UpdateBisec(L, U)\n",
    "            \n",
    "    return R"
   ]
  },
  {
   "cell_type": "code",
   "execution_count": 116,
   "id": "62c147c7",
   "metadata": {},
   "outputs": [
    {
     "data": {
      "text/plain": [
       "2.96579440290151"
      ]
     },
     "execution_count": 116,
     "metadata": {},
     "output_type": "execute_result"
    }
   ],
   "source": [
    "BisectionMethod(f, 0, 4)"
   ]
  },
  {
   "cell_type": "markdown",
   "id": "7700e8f3",
   "metadata": {},
   "source": [
    "## <font color = \"brown\"> Method of False Position </font>"
   ]
  },
  {
   "cell_type": "markdown",
   "id": "59b02283",
   "metadata": {},
   "source": [
    "$$\n",
    "\\begin{aligned}\n",
    "\\space\\\\\n",
    "R = U - \\frac{f(U)(L-U)}{f(L)-f)(U)} \\\\\n",
    "\\space\\\\\n",
    "\\end{aligned}\n",
    "$$"
   ]
  },
  {
   "cell_type": "code",
   "execution_count": 117,
   "id": "df88d108",
   "metadata": {},
   "outputs": [],
   "source": [
    "def f(x):\n",
    "    y = 0.1 * np.exp(x) - np.log(x + 4)\n",
    "    return y"
   ]
  },
  {
   "cell_type": "code",
   "execution_count": 125,
   "id": "3b6e5890",
   "metadata": {},
   "outputs": [],
   "source": [
    "def UpdateFalseP(f, L, U):\n",
    "    R = U - (f(U) * (L - U))/(f(L) - f(U))\n",
    "    return R"
   ]
  },
  {
   "cell_type": "code",
   "execution_count": 126,
   "id": "37f12b1c",
   "metadata": {},
   "outputs": [],
   "source": [
    "def FalsePosition(f, L, U):\n",
    "    \n",
    "    R = UpdateFalseP(f, L, U)\n",
    "    while abs(f(R)) > 1e-6:\n",
    "        \n",
    "        if f(L) * f(R) < 0:\n",
    "            U = R\n",
    "        elif f(U) * f(R) < 0:\n",
    "            L = R\n",
    "        elif f(R) == 0:\n",
    "            return R \n",
    "        R = UpdateFalseP(f, L, U)\n",
    "        \n",
    "    return R"
   ]
  },
  {
   "cell_type": "code",
   "execution_count": 127,
   "id": "e5f7a574",
   "metadata": {},
   "outputs": [
    {
     "data": {
      "text/plain": [
       "2.965794050755957"
      ]
     },
     "execution_count": 127,
     "metadata": {},
     "output_type": "execute_result"
    }
   ],
   "source": [
    "FalsePosition(f, 0, 4)"
   ]
  },
  {
   "cell_type": "markdown",
   "id": "e7e92473",
   "metadata": {},
   "source": [
    "## <font color = \"brown\"> Real Data Science Application </font>"
   ]
  },
  {
   "cell_type": "markdown",
   "id": "ecae5dee",
   "metadata": {},
   "source": [
    "$$\n",
    "\\begin{aligned}\n",
    "\\space\\\\\n",
    "\\space\\\\\n",
    "\\log\\left(\\frac{\\hat p_i}{1-\\hat p_i}\\right) &= \\eta_i = x_i\\beta \\\\\n",
    "\\space\\\\\n",
    "\\space\\\\\n",
    "\\end{aligned}\n",
    "$$"
   ]
  },
  {
   "cell_type": "markdown",
   "id": "8416c317",
   "metadata": {},
   "source": [
    "$$\n",
    "\\begin{aligned}\n",
    "\\space\\\\\n",
    "\\space\\\\\n",
    "\\mathcal{L}(\\beta) &= \\prod\\limits_{i=1}^N \\space \\hat p^{y_i}_i \\space (1-\\hat p_i)^{1-y_i} \\\\\n",
    "\\space\\\\\n",
    "\\log\\mathcal{L}(\\beta) &= \\sum\\limits_{i=1}^N \\space y_i\\log(\\hat p_i) + (1-y_i)\\log(1-\\hat p_i) \\\\\n",
    "\\space\\\\\n",
    "\\space\\\\\n",
    "\\end{aligned}\n",
    "$$"
   ]
  },
  {
   "cell_type": "markdown",
   "id": "286d9bbe",
   "metadata": {},
   "source": [
    "$$\n",
    "\\space\\\\\n",
    "\\space\\\\\n",
    "x^{i+1} = x^i - \\frac{f(x^i)}{f'(x^i)}\n",
    "\\space\\\\\n",
    "\\space\\\\\n",
    "$$"
   ]
  },
  {
   "cell_type": "markdown",
   "id": "84265572",
   "metadata": {},
   "source": [
    "$$\n",
    "\\space\\\\\n",
    "\\space\\\\\n",
    "x^{i+1} = x^i - \\frac{f'(x^i)}{f''(x^i)}\n",
    "\\space\\\\\n",
    "\\space\\\\\n",
    "$$"
   ]
  },
  {
   "cell_type": "markdown",
   "id": "af66ec93",
   "metadata": {},
   "source": [
    "$$\n",
    "\\begin{aligned}\n",
    "\\space\\\\\n",
    "\\space\\\\\n",
    "\\beta^{i+1} &= \\beta^i - \\frac{\\mathcal{L}'(\\beta^i)}{\\mathcal{L}''(\\beta^i)} \\\\\n",
    "\\space\\\\\n",
    "\\beta^{i+1} &= \\beta^i - \\mathcal{L}''(\\beta^i)^{-1}\\mathcal{L}'(\\beta^i)\n",
    "\\space\\\\\n",
    "\\space\\\\\n",
    "\\end{aligned}\n",
    "$$"
   ]
  },
  {
   "cell_type": "markdown",
   "id": "223c2163",
   "metadata": {},
   "source": [
    "$$\n",
    "\\begin{aligned}\n",
    "\\space\\\\\n",
    "\\space\\\\\n",
    "\\mathcal{L}'(\\beta) &= \\frac{\\partial \\mathcal{L}(\\beta)}{\\partial\\beta} = \n",
    "\\left(\\begin{matrix}\n",
    "\\frac{\\partial\\mathcal{L}}{\\partial\\beta_0} \\\\\n",
    "\\frac{\\partial\\mathcal{L}}{\\partial\\beta_1} \\\\\n",
    "\\vdots\\\\\n",
    "\\frac{\\partial\\mathcal{L}}{\\partial\\beta_n} \\\\\n",
    "\\end{matrix}\\right)\n",
    "\\\\\n",
    "\\space\\\\\n",
    "\\mathcal{L}''(\\beta) &= \\frac{\\partial^2 \\mathcal{L}(\\beta)}{\\partial\\beta\\partial\\beta^T} = -\\mathcal{J}(\\beta)\n",
    "\\space\\\\\n",
    "\\space\\\\\n",
    "\\space\\\\\n",
    "\\end{aligned}\n",
    "$$"
   ]
  },
  {
   "cell_type": "markdown",
   "id": "5487bff7",
   "metadata": {},
   "source": [
    "$$\n",
    "\\space\\\\\n",
    "\\space\\\\\n",
    "\\mathcal{I}(\\beta) = \\mathbb{E}_y\\space[\\mathcal{J}(\\beta)]\n",
    "\\space\\\\\n",
    "\\space\\\\\n",
    "$$"
   ]
  },
  {
   "cell_type": "markdown",
   "id": "51e8f306",
   "metadata": {},
   "source": [
    "$$\n",
    "\\begin{aligned}\n",
    "\\space\\\\\n",
    "\\space\\\\\n",
    "\\beta^{i+1} &= \\beta^i + \\mathcal{I}(\\beta)\\mathcal{L}'(\\beta^i)\n",
    "\\space\\\\\n",
    "\\space\\\\\n",
    "\\space\\\\\n",
    "\\space\\\\\n",
    "\\end{aligned}\n",
    "$$"
   ]
  }
 ],
 "metadata": {
  "kernelspec": {
   "display_name": "Python 3 (ipykernel)",
   "language": "python",
   "name": "python3"
  },
  "language_info": {
   "codemirror_mode": {
    "name": "ipython",
    "version": 3
   },
   "file_extension": ".py",
   "mimetype": "text/x-python",
   "name": "python",
   "nbconvert_exporter": "python",
   "pygments_lexer": "ipython3",
   "version": "3.7.7"
  }
 },
 "nbformat": 4,
 "nbformat_minor": 5
}
